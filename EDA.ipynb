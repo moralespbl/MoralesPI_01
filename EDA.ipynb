{
 "cells": [
  {
   "cell_type": "code",
   "execution_count": 2,
   "metadata": {},
   "outputs": [],
   "source": [
    "import pandas as pd\n",
    "import json as json\n",
    "import matplotlib.pyplot as plt\n",
    "import seaborn as sns\n",
    "from sklearn.preprocessing import MinMaxScaler, LabelBinarizer\n",
    "import ast"
   ]
  },
  {
   "cell_type": "code",
   "execution_count": 4,
   "metadata": {},
   "outputs": [],
   "source": [
    "# Cargar Data Sets\n",
    "dfCreditsNormal = pd.read_csv('Data/dfCreditsNormal.csv', dtype=str, encoding='UTF-8', decimal='.', quotechar='\"')\n",
    "dfMovies = pd.read_csv('Data/dfMoviesNormal.csv', dtype=str, encoding='UTF-8', decimal='.', quotechar='\"')"
   ]
  },
  {
   "cell_type": "code",
   "execution_count": null,
   "metadata": {},
   "outputs": [],
   "source": [
    "dfCreditsNormal.drop(columns=['profile_path_cast', 'id_crew', 'cast_id_cast'], inplace=True)"
   ]
  },
  {
   "cell_type": "code",
   "execution_count": null,
   "metadata": {},
   "outputs": [],
   "source": [
    "dfMoviesFinal.drop(columns=['id_collection', 'backdrop_path', 'id_genres', 'id_production_companies', 'iso_3166_1_production_countries', 'iso_639_1_spoken_languages' ], inplace=True)\n",
    "dfMoviesFinal.drop(columns=['original_language', 'status'], inplace=True)"
   ]
  },
  {
   "cell_type": "code",
   "execution_count": null,
   "metadata": {},
   "outputs": [],
   "source": [
    "dfMoviesSintetico = dfMoviesFinal.drop_duplicates(subset='id_pelicula', keep='first')"
   ]
  },
  {
   "cell_type": "code",
   "execution_count": null,
   "metadata": {},
   "outputs": [],
   "source": [
    "dfMoviesSintetico"
   ]
  },
  {
   "cell_type": "code",
   "execution_count": null,
   "metadata": {},
   "outputs": [],
   "source": [
    "# Verifica las primeras filas del DataFrame para asegurarte de que tiene las columnas correctas\n",
    "print(\"DataFrame:\")\n",
    "print(dfMoviesSintetico.head())\n",
    "\n",
    "# Verifica la descripción de las columnas seleccionadas\n",
    "columns_to_describe = ['popularity', 'runtime', 'vote_average', 'release_year']\n",
    "print(\"\\nDescripción de las columnas seleccionadas:\")\n",
    "print(dfMoviesSintetico[columns_to_describe].describe())  # Selección correcta de columnas\n",
    "\n",
    "# Crear el boxplot con matplotlib\n",
    "plt.figure(figsize=(12, 8))\n",
    "dfMoviesSintetico.boxplot(column=columns_to_describe)\n",
    "plt.title('Boxplot de las columnas seleccionadas (matplotlib)')\n",
    "plt.xlabel('Columnas')\n",
    "plt.ylabel('Valores')\n",
    "plt.xticks(rotation=45)  # Rotar etiquetas si es necesario\n",
    "plt.show()\n",
    "\n",
    "# Convertir el DataFrame a formato largo para seaborn\n",
    "df_long = dfMoviesSintetico.melt(value_vars=columns_to_describe)\n",
    "\n",
    "# Crear el boxplot con seaborn\n",
    "plt.figure(figsize=(12, 8))\n",
    "sns.boxplot(x='variable', y='value', data=df_long)\n",
    "plt.title('Boxplot de las columnas seleccionadas (seaborn)')\n",
    "plt.xlabel('Columnas')\n",
    "plt.ylabel('Valores')\n",
    "plt.xticks(rotation=45)  # Rotar etiquetas si es necesario\n",
    "plt.show()"
   ]
  },
  {
   "cell_type": "code",
   "execution_count": null,
   "metadata": {},
   "outputs": [],
   "source": [
    "# Filtrar solo las columnas numéricas\n",
    "numeric_columns = dfMoviesSintetico_scaled.select_dtypes(include='number').drop(columns=['id_pelicula', 'id_collection', 'return'], inplace=False)\n",
    "\n",
    "# Agregar una columna categórica para usar en hue en el pairplot\n",
    "# Aquí, puedes usar una columna categórica relevante. En este ejemplo, se usará 'name_genres', pero puedes cambiarlo según tu necesidad.\n",
    "dfMovies_filtered = dfMoviesSintetico_scaled.copy()  # Crear una copia del DataFrame original\n",
    "dfMovies_filtered = dfMovies_filtered[numeric_columns.columns.tolist() + ['name_genres']]\n",
    "\n",
    "# Filtrar para eliminar filas con valores NaN en la columna categórica (si es necesario)\n",
    "dfMovies_filtered = dfMovies_filtered.dropna(subset=['name_genres'])\n",
    "\n",
    "# Crear el pairplot\n",
    "sns.pairplot(dfMovies_filtered, hue='name_genres', palette='tab10')  # 'tab10' es una paleta con hasta 10 colores distintos\n",
    "\n",
    "# Mostrar el gráfico\n",
    "plt.show()\n"
   ]
  }
 ],
 "metadata": {
  "kernelspec": {
   "display_name": "venv",
   "language": "python",
   "name": "python3"
  },
  "language_info": {
   "codemirror_mode": {
    "name": "ipython",
    "version": 3
   },
   "file_extension": ".py",
   "mimetype": "text/x-python",
   "name": "python",
   "nbconvert_exporter": "python",
   "pygments_lexer": "ipython3",
   "version": "3.12.1"
  }
 },
 "nbformat": 4,
 "nbformat_minor": 2
}

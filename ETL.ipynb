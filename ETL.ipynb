{
 "cells": [
  {
   "cell_type": "code",
   "execution_count": 1,
   "metadata": {},
   "outputs": [],
   "source": [
    "import pandas as pd\n",
    "import json as json\n",
    "import ast"
   ]
  },
  {
   "cell_type": "code",
   "execution_count": 12,
   "metadata": {},
   "outputs": [],
   "source": [
    "# Cargar Data Sets\n",
    "dfMovies = pd.read_csv('Data/movies_dataset.csv', dtype=str, encoding='UTF-8', decimal='.', quotechar='\"')\n",
    "dfCredits = pd.read_csv('Data/credits.csv', dtype=str, encoding='UTF-8', decimal='.', quotechar='\"')"
   ]
  },
  {
   "cell_type": "markdown",
   "metadata": {},
   "source": [
    "Transformaciones"
   ]
  },
  {
   "cell_type": "code",
   "execution_count": 13,
   "metadata": {},
   "outputs": [
    {
     "name": "stdout",
     "output_type": "stream",
     "text": [
      "Hay 17 filas duplicadas\n"
     ]
    }
   ],
   "source": [
    "# Verifica si hay filas duplicadas en dfCredits\n",
    "duplicados = dfMovies.duplicated()\n",
    "\n",
    "# Cuenta el número de filas duplicadas\n",
    "cantidad_duplicados = duplicados.sum()\n",
    "\n",
    "print(f\"Hay {cantidad_duplicados} filas duplicadas\")\n"
   ]
  },
  {
   "cell_type": "code",
   "execution_count": 14,
   "metadata": {},
   "outputs": [
    {
     "name": "stdout",
     "output_type": "stream",
     "text": [
      "Hay 37 filas duplicadas\n"
     ]
    }
   ],
   "source": [
    "# Verifica si hay filas duplicadas en dfCredits\n",
    "duplicados = dfCredits.duplicated()\n",
    "\n",
    "# Cuenta el número de filas duplicadas\n",
    "cantidad_duplicados = duplicados.sum()\n",
    "\n",
    "print(f\"Hay {cantidad_duplicados} filas duplicadas\")"
   ]
  },
  {
   "cell_type": "code",
   "execution_count": 18,
   "metadata": {},
   "outputs": [],
   "source": [
    "# Elimina filas duplicadas y mantiene la primera ocurrencia\n",
    "dfMovies = dfMovies.drop_duplicates()\n",
    "\n",
    "dfCredits = dfCredits.drop_duplicates()"
   ]
  },
  {
   "cell_type": "code",
   "execution_count": 21,
   "metadata": {},
   "outputs": [],
   "source": [
    "# Conviertir las cadenas de texto a listas de diccionarios usando ast.literal_eval\n",
    "dfCredits['cast'] = dfCredits['cast'].apply(lambda x: ast.literal_eval(x) if isinstance(x, str) else x)\n",
    "dfCredits['crew'] = dfCredits['crew'].apply(lambda x: ast.literal_eval(x) if isinstance(x, str) else x)"
   ]
  },
  {
   "cell_type": "code",
   "execution_count": 25,
   "metadata": {},
   "outputs": [],
   "source": [
    "# Renombrar Columna\n",
    "dfCredits.rename(columns={'id': 'id_pelicula'}, inplace=True)"
   ]
  },
  {
   "cell_type": "code",
   "execution_count": 23,
   "metadata": {},
   "outputs": [],
   "source": [
    "def expand_and_normalize(df, column):\n",
    "    \"\"\"\n",
    "    Expande una columna de listas en filas y normaliza los diccionarios dentro de esa columna.\n",
    "\n",
    "    Parámetros:\n",
    "    df (pd.DataFrame): DataFrame que contiene la columna a procesar.\n",
    "    column (str): Nombre de la columna que contiene listas de diccionarios para expandir y normalizar.\n",
    "\n",
    "    Retorna:\n",
    "    pd.DataFrame: Un nuevo DataFrame con la columna original expandida y normalizada.\n",
    "    \"\"\"\n",
    "    \n",
    "    # Verificar si la columna especificada existe en el DataFrame\n",
    "    if column not in df.columns:\n",
    "        raise KeyError(f\"La columna '{column}' no se encuentra en el DataFrame.\")\n",
    "    \n",
    "    # Explota la columna de listas en filas individuales\n",
    "    # Cada elemento de la lista en una fila se convierte en una fila separada\n",
    "    df_exploded = df.explode(column)\n",
    "    \n",
    "    # Normaliza los diccionarios de la columna explotada\n",
    "    # Esta operación convierte cada diccionario en una fila de columnas separadas\n",
    "    df_normalized = pd.json_normalize(df_exploded[column])\n",
    "    \n",
    "    # Añade las columnas del DataFrame normalizado al DataFrame explotado\n",
    "    for col in df_normalized.columns:\n",
    "        # Crear un nuevo nombre para cada columna normalizada, usando el nombre original de la columna\n",
    "        new_col_name = f\"{col}_{column}\"\n",
    "        # Añadir la columna al DataFrame explotado\n",
    "        df_exploded[new_col_name] = df_normalized[col].values\n",
    "    \n",
    "    # Eliminar la columna original que fue normalizada, ya que ahora está representada por las nuevas columnas\n",
    "    df_exploded = df_exploded.drop(columns=[column])\n",
    "    \n",
    "    # Retorna el DataFrame con la columna original explotada y las nuevas columnas normalizadas\n",
    "    return df_exploded\n"
   ]
  },
  {
   "cell_type": "code",
   "execution_count": 26,
   "metadata": {},
   "outputs": [],
   "source": [
    "# Desanida columnas del data frame Credits\n",
    "dfCreditsNormal = expand_and_normalize(dfCredits, 'cast')\n",
    "dfCreditsNormal = expand_and_normalize(dfCreditsNormal, 'crew')"
   ]
  },
  {
   "cell_type": "code",
   "execution_count": 29,
   "metadata": {},
   "outputs": [
    {
     "name": "stderr",
     "output_type": "stream",
     "text": [
      "C:\\Users\\Pablo\\AppData\\Local\\Temp\\ipykernel_7820\\2657334609.py:2: SettingWithCopyWarning: \n",
      "A value is trying to be set on a copy of a slice from a DataFrame.\n",
      "Try using .loc[row_indexer,col_indexer] = value instead\n",
      "\n",
      "See the caveats in the documentation: https://pandas.pydata.org/pandas-docs/stable/user_guide/indexing.html#returning-a-view-versus-a-copy\n",
      "  dfMovies['belongs_to_collection'] = dfMovies['belongs_to_collection'].apply(lambda x: ast.literal_eval(x) if isinstance(x, str) else x)\n"
     ]
    }
   ],
   "source": [
    "# Convierte las cadenas de texto a listas de diccionarios usando ast.literal_eval\n",
    "dfMovies['belongs_to_collection'] = dfMovies['belongs_to_collection'].apply(lambda x: ast.literal_eval(x) if isinstance(x, str) else x)"
   ]
  },
  {
   "cell_type": "code",
   "execution_count": 35,
   "metadata": {},
   "outputs": [
    {
     "ename": "KeyError",
     "evalue": "\"['video', 'imdb_id', 'adult', 'original_title', 'poster_path', 'homepage'] not found in axis\"",
     "output_type": "error",
     "traceback": [
      "\u001b[1;31m---------------------------------------------------------------------------\u001b[0m",
      "\u001b[1;31mKeyError\u001b[0m                                  Traceback (most recent call last)",
      "Cell \u001b[1;32mIn[35], line 23\u001b[0m\n\u001b[0;32m     21\u001b[0m \u001b[38;5;66;03m# Eliminnar columnas:\u001b[39;00m\n\u001b[0;32m     22\u001b[0m columns \u001b[38;5;241m=\u001b[39m [\u001b[38;5;124m'\u001b[39m\u001b[38;5;124mvideo\u001b[39m\u001b[38;5;124m'\u001b[39m, \u001b[38;5;124m'\u001b[39m\u001b[38;5;124mimdb_id\u001b[39m\u001b[38;5;124m'\u001b[39m, \u001b[38;5;124m'\u001b[39m\u001b[38;5;124madult\u001b[39m\u001b[38;5;124m'\u001b[39m, \u001b[38;5;124m'\u001b[39m\u001b[38;5;124moriginal_title\u001b[39m\u001b[38;5;124m'\u001b[39m, \u001b[38;5;124m'\u001b[39m\u001b[38;5;124mposter_path\u001b[39m\u001b[38;5;124m'\u001b[39m, \u001b[38;5;124m'\u001b[39m\u001b[38;5;124mhomepage\u001b[39m\u001b[38;5;124m'\u001b[39m]\n\u001b[1;32m---> 23\u001b[0m \u001b[43mdfMovies\u001b[49m\u001b[38;5;241;43m.\u001b[39;49m\u001b[43mdrop\u001b[49m\u001b[43m(\u001b[49m\u001b[43mcolumns\u001b[49m\u001b[38;5;241;43m=\u001b[39;49m\u001b[43mcolumns\u001b[49m\u001b[43m,\u001b[49m\u001b[43m \u001b[49m\u001b[43minplace\u001b[49m\u001b[38;5;241;43m=\u001b[39;49m\u001b[38;5;28;43;01mTrue\u001b[39;49;00m\u001b[43m)\u001b[49m\n\u001b[0;32m     25\u001b[0m dfMovies\u001b[38;5;241m.\u001b[39mrename(columns\u001b[38;5;241m=\u001b[39m{\u001b[38;5;124m'\u001b[39m\u001b[38;5;124mid\u001b[39m\u001b[38;5;124m'\u001b[39m: \u001b[38;5;124m'\u001b[39m\u001b[38;5;124mid_pelicula\u001b[39m\u001b[38;5;124m'\u001b[39m}, inplace\u001b[38;5;241m=\u001b[39m\u001b[38;5;28;01mTrue\u001b[39;00m)\n",
      "File \u001b[1;32mc:\\Users\\Pablo\\OneDrive\\Henry\\MoralesPI_01\\venv\\Lib\\site-packages\\pandas\\core\\frame.py:5581\u001b[0m, in \u001b[0;36mDataFrame.drop\u001b[1;34m(self, labels, axis, index, columns, level, inplace, errors)\u001b[0m\n\u001b[0;32m   5433\u001b[0m \u001b[38;5;28;01mdef\u001b[39;00m \u001b[38;5;21mdrop\u001b[39m(\n\u001b[0;32m   5434\u001b[0m     \u001b[38;5;28mself\u001b[39m,\n\u001b[0;32m   5435\u001b[0m     labels: IndexLabel \u001b[38;5;241m|\u001b[39m \u001b[38;5;28;01mNone\u001b[39;00m \u001b[38;5;241m=\u001b[39m \u001b[38;5;28;01mNone\u001b[39;00m,\n\u001b[1;32m   (...)\u001b[0m\n\u001b[0;32m   5442\u001b[0m     errors: IgnoreRaise \u001b[38;5;241m=\u001b[39m \u001b[38;5;124m\"\u001b[39m\u001b[38;5;124mraise\u001b[39m\u001b[38;5;124m\"\u001b[39m,\n\u001b[0;32m   5443\u001b[0m ) \u001b[38;5;241m-\u001b[39m\u001b[38;5;241m>\u001b[39m DataFrame \u001b[38;5;241m|\u001b[39m \u001b[38;5;28;01mNone\u001b[39;00m:\n\u001b[0;32m   5444\u001b[0m \u001b[38;5;250m    \u001b[39m\u001b[38;5;124;03m\"\"\"\u001b[39;00m\n\u001b[0;32m   5445\u001b[0m \u001b[38;5;124;03m    Drop specified labels from rows or columns.\u001b[39;00m\n\u001b[0;32m   5446\u001b[0m \n\u001b[1;32m   (...)\u001b[0m\n\u001b[0;32m   5579\u001b[0m \u001b[38;5;124;03m            weight  1.0     0.8\u001b[39;00m\n\u001b[0;32m   5580\u001b[0m \u001b[38;5;124;03m    \"\"\"\u001b[39;00m\n\u001b[1;32m-> 5581\u001b[0m     \u001b[38;5;28;01mreturn\u001b[39;00m \u001b[38;5;28;43msuper\u001b[39;49m\u001b[43m(\u001b[49m\u001b[43m)\u001b[49m\u001b[38;5;241;43m.\u001b[39;49m\u001b[43mdrop\u001b[49m\u001b[43m(\u001b[49m\n\u001b[0;32m   5582\u001b[0m \u001b[43m        \u001b[49m\u001b[43mlabels\u001b[49m\u001b[38;5;241;43m=\u001b[39;49m\u001b[43mlabels\u001b[49m\u001b[43m,\u001b[49m\n\u001b[0;32m   5583\u001b[0m \u001b[43m        \u001b[49m\u001b[43maxis\u001b[49m\u001b[38;5;241;43m=\u001b[39;49m\u001b[43maxis\u001b[49m\u001b[43m,\u001b[49m\n\u001b[0;32m   5584\u001b[0m \u001b[43m        \u001b[49m\u001b[43mindex\u001b[49m\u001b[38;5;241;43m=\u001b[39;49m\u001b[43mindex\u001b[49m\u001b[43m,\u001b[49m\n\u001b[0;32m   5585\u001b[0m \u001b[43m        \u001b[49m\u001b[43mcolumns\u001b[49m\u001b[38;5;241;43m=\u001b[39;49m\u001b[43mcolumns\u001b[49m\u001b[43m,\u001b[49m\n\u001b[0;32m   5586\u001b[0m \u001b[43m        \u001b[49m\u001b[43mlevel\u001b[49m\u001b[38;5;241;43m=\u001b[39;49m\u001b[43mlevel\u001b[49m\u001b[43m,\u001b[49m\n\u001b[0;32m   5587\u001b[0m \u001b[43m        \u001b[49m\u001b[43minplace\u001b[49m\u001b[38;5;241;43m=\u001b[39;49m\u001b[43minplace\u001b[49m\u001b[43m,\u001b[49m\n\u001b[0;32m   5588\u001b[0m \u001b[43m        \u001b[49m\u001b[43merrors\u001b[49m\u001b[38;5;241;43m=\u001b[39;49m\u001b[43merrors\u001b[49m\u001b[43m,\u001b[49m\n\u001b[0;32m   5589\u001b[0m \u001b[43m    \u001b[49m\u001b[43m)\u001b[49m\n",
      "File \u001b[1;32mc:\\Users\\Pablo\\OneDrive\\Henry\\MoralesPI_01\\venv\\Lib\\site-packages\\pandas\\core\\generic.py:4788\u001b[0m, in \u001b[0;36mNDFrame.drop\u001b[1;34m(self, labels, axis, index, columns, level, inplace, errors)\u001b[0m\n\u001b[0;32m   4786\u001b[0m \u001b[38;5;28;01mfor\u001b[39;00m axis, labels \u001b[38;5;129;01min\u001b[39;00m axes\u001b[38;5;241m.\u001b[39mitems():\n\u001b[0;32m   4787\u001b[0m     \u001b[38;5;28;01mif\u001b[39;00m labels \u001b[38;5;129;01mis\u001b[39;00m \u001b[38;5;129;01mnot\u001b[39;00m \u001b[38;5;28;01mNone\u001b[39;00m:\n\u001b[1;32m-> 4788\u001b[0m         obj \u001b[38;5;241m=\u001b[39m \u001b[43mobj\u001b[49m\u001b[38;5;241;43m.\u001b[39;49m\u001b[43m_drop_axis\u001b[49m\u001b[43m(\u001b[49m\u001b[43mlabels\u001b[49m\u001b[43m,\u001b[49m\u001b[43m \u001b[49m\u001b[43maxis\u001b[49m\u001b[43m,\u001b[49m\u001b[43m \u001b[49m\u001b[43mlevel\u001b[49m\u001b[38;5;241;43m=\u001b[39;49m\u001b[43mlevel\u001b[49m\u001b[43m,\u001b[49m\u001b[43m \u001b[49m\u001b[43merrors\u001b[49m\u001b[38;5;241;43m=\u001b[39;49m\u001b[43merrors\u001b[49m\u001b[43m)\u001b[49m\n\u001b[0;32m   4790\u001b[0m \u001b[38;5;28;01mif\u001b[39;00m inplace:\n\u001b[0;32m   4791\u001b[0m     \u001b[38;5;28mself\u001b[39m\u001b[38;5;241m.\u001b[39m_update_inplace(obj)\n",
      "File \u001b[1;32mc:\\Users\\Pablo\\OneDrive\\Henry\\MoralesPI_01\\venv\\Lib\\site-packages\\pandas\\core\\generic.py:4830\u001b[0m, in \u001b[0;36mNDFrame._drop_axis\u001b[1;34m(self, labels, axis, level, errors, only_slice)\u001b[0m\n\u001b[0;32m   4828\u001b[0m         new_axis \u001b[38;5;241m=\u001b[39m axis\u001b[38;5;241m.\u001b[39mdrop(labels, level\u001b[38;5;241m=\u001b[39mlevel, errors\u001b[38;5;241m=\u001b[39merrors)\n\u001b[0;32m   4829\u001b[0m     \u001b[38;5;28;01melse\u001b[39;00m:\n\u001b[1;32m-> 4830\u001b[0m         new_axis \u001b[38;5;241m=\u001b[39m \u001b[43maxis\u001b[49m\u001b[38;5;241;43m.\u001b[39;49m\u001b[43mdrop\u001b[49m\u001b[43m(\u001b[49m\u001b[43mlabels\u001b[49m\u001b[43m,\u001b[49m\u001b[43m \u001b[49m\u001b[43merrors\u001b[49m\u001b[38;5;241;43m=\u001b[39;49m\u001b[43merrors\u001b[49m\u001b[43m)\u001b[49m\n\u001b[0;32m   4831\u001b[0m     indexer \u001b[38;5;241m=\u001b[39m axis\u001b[38;5;241m.\u001b[39mget_indexer(new_axis)\n\u001b[0;32m   4833\u001b[0m \u001b[38;5;66;03m# Case for non-unique axis\u001b[39;00m\n\u001b[0;32m   4834\u001b[0m \u001b[38;5;28;01melse\u001b[39;00m:\n",
      "File \u001b[1;32mc:\\Users\\Pablo\\OneDrive\\Henry\\MoralesPI_01\\venv\\Lib\\site-packages\\pandas\\core\\indexes\\base.py:7070\u001b[0m, in \u001b[0;36mIndex.drop\u001b[1;34m(self, labels, errors)\u001b[0m\n\u001b[0;32m   7068\u001b[0m \u001b[38;5;28;01mif\u001b[39;00m mask\u001b[38;5;241m.\u001b[39many():\n\u001b[0;32m   7069\u001b[0m     \u001b[38;5;28;01mif\u001b[39;00m errors \u001b[38;5;241m!=\u001b[39m \u001b[38;5;124m\"\u001b[39m\u001b[38;5;124mignore\u001b[39m\u001b[38;5;124m\"\u001b[39m:\n\u001b[1;32m-> 7070\u001b[0m         \u001b[38;5;28;01mraise\u001b[39;00m \u001b[38;5;167;01mKeyError\u001b[39;00m(\u001b[38;5;124mf\u001b[39m\u001b[38;5;124m\"\u001b[39m\u001b[38;5;132;01m{\u001b[39;00mlabels[mask]\u001b[38;5;241m.\u001b[39mtolist()\u001b[38;5;132;01m}\u001b[39;00m\u001b[38;5;124m not found in axis\u001b[39m\u001b[38;5;124m\"\u001b[39m)\n\u001b[0;32m   7071\u001b[0m     indexer \u001b[38;5;241m=\u001b[39m indexer[\u001b[38;5;241m~\u001b[39mmask]\n\u001b[0;32m   7072\u001b[0m \u001b[38;5;28;01mreturn\u001b[39;00m \u001b[38;5;28mself\u001b[39m\u001b[38;5;241m.\u001b[39mdelete(indexer)\n",
      "\u001b[1;31mKeyError\u001b[0m: \"['video', 'imdb_id', 'adult', 'original_title', 'poster_path', 'homepage'] not found in axis\""
     ]
    }
   ],
   "source": [
    "\n",
    "# Rellena con 0 los campos de las columnas:\n",
    "dfMovies[['revenue', 'budget']] = dfMovies[['revenue', 'budget']].fillna(0)\n",
    "dfMovies = dfMovies.dropna(subset=['release_date'])\n",
    "\n",
    "# Eliminar filas donde 'release_date' es nulo\n",
    "dfMovies['release_date'] = pd.to_datetime(dfMovies['release_date'], errors='coerce')\n",
    "\n",
    "# Crear la columna release_year usando .loc para evitar el SettingWithCopyWarning\n",
    "dfMovies.loc[:, 'release_year'] = dfMovies['release_date'].dt.year\n",
    "\n",
    "# Convertir en datos numericos las columnas:\n",
    "dfMovies['budget'] = pd.to_numeric(dfMovies['budget'], errors='coerce')\n",
    "dfMovies['revenue'] = pd.to_numeric(dfMovies['revenue'], errors='coerce')\n",
    "dfMovies['runtime'] = pd.to_numeric(dfMovies['runtime'], errors='coerce')\n",
    "dfMovies['vote_average'] = pd.to_numeric(dfMovies['vote_average'], errors='coerce')\n",
    "dfMovies['vote_count'] = pd.to_numeric(dfMovies['vote_count'], errors='coerce')\n",
    "\n",
    "# Crean columna return\n",
    "dfMovies['return'] = dfMovies.apply(lambda row: row['revenue'] / row['budget'] if row['budget'] > 0 else 0, axis=1)\n",
    "\n",
    "# Eliminnar columnas:\n",
    "columns = ['video', 'imdb_id', 'adult', 'original_title', 'poster_path', 'homepage']\n",
    "dfMovies.drop(columns=columns, inplace=True)\n",
    "\n",
    "dfMovies.rename(columns={'id': 'id_pelicula'}, inplace=True)"
   ]
  },
  {
   "cell_type": "code",
   "execution_count": 38,
   "metadata": {},
   "outputs": [],
   "source": [
    "# Desanida columnas del data frame Movies\n",
    "dfMoviesNormal = expand_and_normalize(dfMovies, 'belongs_to_collection')"
   ]
  },
  {
   "cell_type": "code",
   "execution_count": 39,
   "metadata": {},
   "outputs": [],
   "source": [
    "# Convierte las cadenas de texto a listas de diccionarios usando ast.literal_eval\n",
    "dfMoviesNormal['genres'] = dfMoviesNormal['genres'].apply(lambda x: ast.literal_eval(x) if isinstance(x, str) else x)\n",
    "dfMoviesNormal['production_companies'] = dfMoviesNormal['production_companies'].apply(lambda x: ast.literal_eval(x) if isinstance(x, str) else x)\n",
    "dfMoviesNormal['production_countries'] = dfMoviesNormal['production_countries'].apply(lambda x: ast.literal_eval(x) if isinstance(x, str) else x)\n",
    "dfMoviesNormal['spoken_languages'] = dfMoviesNormal['spoken_languages'].apply(lambda x: ast.literal_eval(x) if isinstance(x, str) else x)\n"
   ]
  },
  {
   "cell_type": "code",
   "execution_count": 40,
   "metadata": {},
   "outputs": [],
   "source": [
    "# Desanida columnas del data frame Movies\n",
    "dfMoviesNormal = expand_and_normalize(dfMoviesNormal, 'genres')\n",
    "dfMoviesNormal = expand_and_normalize(dfMoviesNormal, 'production_companies')\n",
    "dfMoviesNormal = expand_and_normalize(dfMoviesNormal, 'production_countries')\n",
    "dfMoviesNormal = expand_and_normalize(dfMoviesNormal, 'spoken_languages')\n"
   ]
  },
  {
   "cell_type": "markdown",
   "metadata": {},
   "source": [
    "* Exportar a CVS"
   ]
  },
  {
   "cell_type": "code",
   "execution_count": null,
   "metadata": {},
   "outputs": [],
   "source": [
    "dfMoviesNormal.to_csv('dfMoviesNormal.csv', index=False)\n",
    "dfCreditsNormal.to_csv('dfCreditsNormal.csv', index=False)"
   ]
  }
 ],
 "metadata": {
  "kernelspec": {
   "display_name": "venv",
   "language": "python",
   "name": "python3"
  },
  "language_info": {
   "codemirror_mode": {
    "name": "ipython",
    "version": 3
   },
   "file_extension": ".py",
   "mimetype": "text/x-python",
   "name": "python",
   "nbconvert_exporter": "python",
   "pygments_lexer": "ipython3",
   "version": "3.10.10"
  }
 },
 "nbformat": 4,
 "nbformat_minor": 2
}

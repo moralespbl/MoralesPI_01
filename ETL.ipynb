{
 "cells": [
  {
   "cell_type": "code",
   "execution_count": 65,
   "metadata": {},
   "outputs": [],
   "source": [
    "from fastapi import FastAPI\n",
    "import uvicorn\n",
    "import pandas as pd\n",
    "import json as json\n",
    "\n",
    "\n",
    "dfMoviesFinal = pd.read_parquet('DataSets/dfMoviesFinal.parquet')\n",
    "dfCreditsFinal = pd.read_parquet('DataSets/dfCreditsFinal.parquet')\n",
    "\n"
   ]
  },
  {
   "cell_type": "code",
   "execution_count": 68,
   "metadata": {},
   "outputs": [],
   "source": [
    "# Eliminar filas donde 'id_pelicula' no es convertible a float\n",
    "dfMoviesFinal = dfMoviesFinal[dfMoviesFinal['id_pelicula'].astype(str).str.replace('.', '', regex=False).str.isnumeric()]\n",
    "dfCreditsFinal = dfCreditsFinal[dfCreditsFinal['id_pelicula'].astype(str).str.replace('.', '', regex=False).str.isnumeric()]\n",
    "\n",
    "# Convertir la columna 'id_pelicula' a tipo float en ambos DataFrames\n",
    "dfMoviesFinal['id_pelicula'] = dfMoviesFinal['id_pelicula'].astype(float)\n",
    "dfCreditsFinal['id_pelicula'] = dfCreditsFinal['id_pelicula'].astype(float)\n",
    "\n"
   ]
  },
  {
   "cell_type": "code",
   "execution_count": 69,
   "metadata": {},
   "outputs": [],
   "source": [
    "def cantidad_filmaciones_mes(mes: str):\n",
    "    meses_dict = {\n",
    "        'enero': 1, 'febrero': 2, 'marzo': 3, 'abril': 4, 'mayo': 5, 'junio': 6,\n",
    "        'julio': 7, 'agosto': 8, 'septiembre': 9, 'octubre': 10, 'noviembre': 11, 'diciembre': 12\n",
    "    }\n",
    "    mes = mes.lower()\n",
    "    if mes not in meses_dict:\n",
    "        raise ValueError(\"Mes no válido. Debe ser uno de los siguientes: enero, febrero, marzo, abril, mayo, junio, julio, agosto, septiembre, octubre, noviembre, diciembre.\")\n",
    "    mes_numero = meses_dict[mes]\n",
    " \n",
    "    dfMoviesFinal['mes'] = dfMoviesFinal['release_date'].dt.month\n",
    "    df_mes = dfMoviesFinal[dfMoviesFinal['mes'] == mes_numero]\n",
    "    cantidad = df_mes['id_pelicula'].nunique()\n",
    "    \n",
    "    return f\"{cantidad} películas fueron estrenadas en el mes de {mes}\"\n",
    "\n"
   ]
  },
  {
   "cell_type": "code",
   "execution_count": 9,
   "metadata": {},
   "outputs": [],
   "source": [
    "def cantidad_filmaciones_dia(dia):\n",
    "\n",
    "    dias_dict = {\n",
    "        'lunes': 1, 'martes': 2, 'miercoles': 3, 'jueves': 4, 'viernes': 5, 'sabado': 6, 'domingo': 7\n",
    "    }\n",
    "    dia = dia.lower()\n",
    "\n",
    "    if dia not in dias_dict:\n",
    "        raise ValueError(\"Día no válido. Debe ser uno de los siguientes: lunes, martes, miércoles, jueves, viernes, sábado, domingo.\")\n",
    "    \n",
    "    dia_numero = dias_dict[dia]\n",
    "\n",
    "    dfMoviesFinal['dia_semana'] = dfMoviesFinal['release_date'].dt.dayofweek + 1\n",
    "\n",
    "    cantidad = dfMoviesFinal[dfMoviesFinal['dia_semana'] == dia_numero]['id_pelicula'].nunique()\n",
    "    \n",
    "    return f\"{cantidad} cantidad de películas fueron estrenadas en los días {dia}\""
   ]
  },
  {
   "cell_type": "code",
   "execution_count": 10,
   "metadata": {},
   "outputs": [],
   "source": [
    "def score_titulo(nombre_peli: str):\n",
    "\n",
    "    pelicula = dfMoviesFinal[dfMoviesFinal['title'].str.contains(nombre_peli, case=False, na=False)]\n",
    "\n",
    "    if pelicula.empty:\n",
    "        return f\"No se encontró la película '{nombre_peli}'.\"\n",
    "\n",
    "    titulo = pelicula.iloc[0]['title']\n",
    "    anio_estreno = pelicula.iloc[0]['release_year']\n",
    "    puntuacion = pelicula.iloc[0]['vote_average']\n",
    "\n",
    "    return f\"La película '{titulo}' fue estrenada en el año {anio_estreno} con un score/popularidad de {puntuacion}.\"\n"
   ]
  },
  {
   "cell_type": "code",
   "execution_count": 12,
   "metadata": {},
   "outputs": [],
   "source": [
    "def votos_titulo(titulo_de_la_filmacion: str):\n",
    "    pelicula = dfMoviesFinal[dfMoviesFinal['title'].str.contains(titulo_de_la_filmacion, case=False, na=False)]\n",
    "    \n",
    "    if pelicula.empty:\n",
    "        return f\"No se encontró la película '{titulo_de_la_filmacion}'.\"\n",
    "    \n",
    "    titulo = pelicula.iloc[0]['title']\n",
    "    anio_estreno = pelicula.iloc[0]['release_year']\n",
    "    cantidad_votos = pelicula.iloc[0]['vote_count']\n",
    "    promedio_votos = pelicula.iloc[0]['vote_average']\n",
    "    \n",
    "    if cantidad_votos < 2000:\n",
    "        return f\"La película '{titulo}' no cumple con la condición de tener al menos 2000 valoraciones (tiene {cantidad_votos} valoraciones).\"\n",
    "    \n",
    "    return (f\"La película '{titulo}' fue estrenada en el año {anio_estreno}. \"\n",
    "            f\"La misma cuenta con un total de {cantidad_votos} valoraciones, con un promedio de {promedio_votos}.\")\n"
   ]
  },
  {
   "cell_type": "code",
   "execution_count": 59,
   "metadata": {},
   "outputs": [],
   "source": [
    "def get_actor(nombre_actor: str):\n",
    "    # Filtrar el DataFrame dfCreditsFinal para encontrar las películas en las que ha actuado el actor\n",
    "    peliculas_actor = dfCreditsFinal[dfCreditsFinal['name_cast'].str.contains(nombre_actor, case=False, na=False)]\n",
    "\n",
    "    # Verificar si el actor aparece en el dataset\n",
    "    if peliculas_actor.empty:\n",
    "        return f\"No se encontró al actor {nombre_actor} en el dataset.\"\n",
    "\n",
    "    # Obtener las películas únicas en las que ha participado, eliminando duplicados de 'id_pelicula'\n",
    "    ids_peliculas = peliculas_actor['id_pelicula'].drop_duplicates()\n",
    "\n",
    "    # Filtrar las películas en el DataFrame dfMoviesFinal usando los IDs obtenidos\n",
    "    peliculas_info = dfMoviesFinal[dfMoviesFinal['id_pelicula'].isin(ids_peliculas)]\n",
    "    peliculas_info = peliculas_info.drop_duplicates(subset='id_pelicula')\n",
    "\n",
    "    # Calcular el retorno total y promedio\n",
    "    retorno_total = peliculas_info['revenue'].sum()\n",
    "    retorno_promedio = retorno_total/len(ids_peliculas)\n",
    "\n",
    "    # Devolver la cantidad de películas y el retorno total y promedio\n",
    "    cantidad_peliculas = len(ids_peliculas)\n",
    "    if cantidad_peliculas == 0:\n",
    "        return f\"El actor {nombre_actor} no tiene películas con presupuesto válido.\"\n",
    "\n",
    "    return (f\"El actor {nombre_actor} ha participado en {cantidad_peliculas} películas, \"\n",
    "            f\"con un retorno total de {retorno_total:.2f} y un promedio de {retorno_promedio:.2f} por filmación.\")\n"
   ]
  },
  {
   "cell_type": "code",
   "execution_count": 98,
   "metadata": {},
   "outputs": [],
   "source": [
    "def get_director(nombre_director: str):\n",
    "    # Filtrar el DataFrame dfCreditsFinal para encontrar las películas dirigidas por el director\n",
    "    peliculas_director = dfCreditsFinal[\n",
    "        (dfCreditsFinal['name_crew'].str.contains(nombre_director, case=False, na=False)) &\n",
    "        (dfCreditsFinal['job_crew'].str.contains('Director', case=False, na=False))\n",
    "    ]\n",
    "    \n",
    "    # Verificar si el director tiene películas en el dataset\n",
    "    if peliculas_director.empty:\n",
    "        return f\"El director {nombre_director} no se encuentra en el dataset.\"\n",
    "\n",
    "    # Obtener los IDs de las películas dirigidas por el director\n",
    "    ids_peliculas = peliculas_director['id_pelicula'].unique()\n",
    "    \n",
    "    # Filtrar el DataFrame dfMoviesFinal usando los IDs de las películas del director\n",
    "    peliculas_info = dfMoviesFinal[dfMoviesFinal['id_pelicula'].isin(ids_peliculas)]\n",
    "    peliculas_info = peliculas_info.drop_duplicates(subset='id_pelicula')\n",
    "\n",
    "    # Calcular el retorno y extraer la información de las películas\n",
    "    peliculas_info['ganancia'] = peliculas_info['revenue'] - peliculas_info['budget']\n",
    "    peliculas_info['retorno'] = peliculas_info['revenue']\n",
    "\n",
    "    # Preparar la salida\n",
    "    resultados = []\n",
    "    for _, row in peliculas_info.iterrows():\n",
    "        resultado = (\n",
    "            f\"Película: {row['title']}, \"\n",
    "            f\"Fecha de lanzamiento: {row['release_date']}, \"\n",
    "            f\"Retorno: {row['retorno']:.2f}, \"\n",
    "            f\"Costo: {row['budget']:.2f}, \"\n",
    "            f\"Ganancia: {row['ganancia']:.2f}\"\n",
    "        )\n",
    "        resultados.append(resultado)\n",
    "    \n",
    "    return \"\\n\".join(resultados)\n"
   ]
  },
  {
   "cell_type": "code",
   "execution_count": 99,
   "metadata": {},
   "outputs": [
    {
     "data": {
      "text/plain": [
       "\"Película: Dr. Strangelove or: How I Learned to Stop Worrying and Love the Bomb, Fecha de lanzamiento: 1964-01-29, Retorno: 9440272.00, Costo: 1800000.00, Ganancia: 7640272.00\\nPelícula: 2001: A Space Odyssey, Fecha de lanzamiento: 1968-04-10, Retorno: 68700000.00, Costo: 10500000.00, Ganancia: 58200000.00\\nPelícula: Paths of Glory, Fecha de lanzamiento: 1957-09-18, Retorno: 0.00, Costo: 935000.00, Ganancia: -935000.00\\nPelícula: A Clockwork Orange, Fecha de lanzamiento: 1971-12-18, Retorno: 26589000.00, Costo: 2200000.00, Ganancia: 24389000.00\\nPelícula: Full Metal Jacket, Fecha de lanzamiento: 1987-06-26, Retorno: 46357676.00, Costo: 17000000.00, Ganancia: 29357676.00\\nPelícula: The Shining, Fecha de lanzamiento: 1980-05-22, Retorno: 44017374.00, Costo: 19000000.00, Ganancia: 25017374.00\\nPelícula: Eyes Wide Shut, Fecha de lanzamiento: 1999-07-14, Retorno: 162091208.00, Costo: 65000000.00, Ganancia: 97091208.00\\nPelícula: The Killing, Fecha de lanzamiento: 1956-05-08, Retorno: 0.00, Costo: 320000.00, Ganancia: -320000.00\\nPelícula: Killer's Kiss, Fecha de lanzamiento: 1955-09-21, Retorno: 0.00, Costo: 75000.00, Ganancia: -75000.00\\nPelícula: Spartacus, Fecha de lanzamiento: 1960-10-06, Retorno: 60000000.00, Costo: 12000000.00, Ganancia: 48000000.00\\nPelícula: Lolita, Fecha de lanzamiento: 1962-06-13, Retorno: 9250000.00, Costo: 2000000.00, Ganancia: 7250000.00\\nPelícula: Barry Lyndon, Fecha de lanzamiento: 1975-12-18, Retorno: 20000000.00, Costo: 11000000.00, Ganancia: 9000000.00\\nPelícula: Fear and Desire, Fecha de lanzamiento: 1953-04-01, Retorno: 0.00, Costo: 53000.00, Ganancia: -53000.00\\nPelícula: The Seafarers, Fecha de lanzamiento: 1953-10-15, Retorno: 0.00, Costo: 0.00, Ganancia: 0.00\\nPelícula: Day of the Fight, Fecha de lanzamiento: 1951-04-26, Retorno: 0.00, Costo: 3900.00, Ganancia: -3900.00\\nPelícula: Flying Padre, Fecha de lanzamiento: 1951-03-23, Retorno: 0.00, Costo: 0.00, Ganancia: 0.00\""
      ]
     },
     "execution_count": 99,
     "metadata": {},
     "output_type": "execute_result"
    }
   ],
   "source": [
    "get_director('stanley kubrick')"
   ]
  }
 ],
 "metadata": {
  "kernelspec": {
   "display_name": "venv",
   "language": "python",
   "name": "python3"
  },
  "language_info": {
   "codemirror_mode": {
    "name": "ipython",
    "version": 3
   },
   "file_extension": ".py",
   "mimetype": "text/x-python",
   "name": "python",
   "nbconvert_exporter": "python",
   "pygments_lexer": "ipython3",
   "version": "3.12.1"
  }
 },
 "nbformat": 4,
 "nbformat_minor": 2
}

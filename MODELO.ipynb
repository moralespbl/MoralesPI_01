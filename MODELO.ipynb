{
 "cells": [
  {
   "cell_type": "code",
   "execution_count": 3,
   "metadata": {},
   "outputs": [],
   "source": [
    "import pandas as pd\n",
    "import json as json\n",
    "\n",
    "import pandas as pd\n",
    "from sklearn.metrics.pairwise import cosine_similarity\n",
    "from sklearn.feature_extraction.text import TfidfVectorizer"
   ]
  },
  {
   "cell_type": "code",
   "execution_count": 17,
   "metadata": {},
   "outputs": [],
   "source": [
    "from nltk.corpus import stopwords\n",
    "from nltk.stem import PorterStemmer"
   ]
  },
  {
   "cell_type": "code",
   "execution_count": 19,
   "metadata": {},
   "outputs": [
    {
     "name": "stderr",
     "output_type": "stream",
     "text": [
      "[nltk_data] Downloading package punkt to C:\\Users\\Pablo/nltk_data...\n",
      "[nltk_data]   Package punkt is already up-to-date!\n",
      "[nltk_data] Downloading package stopwords to\n",
      "[nltk_data]     C:\\Users\\Pablo/nltk_data...\n",
      "[nltk_data]   Package stopwords is already up-to-date!\n"
     ]
    }
   ],
   "source": [
    "import nltk\n",
    "nltk.download('punkt')\n",
    "nltk.download('stopwords')\n",
    "from nltk.tokenize import word_tokenize"
   ]
  },
  {
   "cell_type": "code",
   "execution_count": 79,
   "metadata": {},
   "outputs": [],
   "source": [
    "dfMoviesFinal = pd.read_parquet('DataSets/dfMoviesSintetico.parquet')"
   ]
  },
  {
   "cell_type": "code",
   "execution_count": 80,
   "metadata": {},
   "outputs": [
    {
     "name": "stdout",
     "output_type": "stream",
     "text": [
      "<class 'pandas.core.frame.DataFrame'>\n",
      "Index: 32184 entries, 0 to 581956\n",
      "Data columns (total 11 columns):\n",
      " #   Column        Non-Null Count  Dtype  \n",
      "---  ------        --------------  -----  \n",
      " 0   budget        32184 non-null  float64\n",
      " 1   id_pelicula   32184 non-null  int64  \n",
      " 2   overview      32184 non-null  object \n",
      " 3   release_date  32184 non-null  object \n",
      " 4   revenue       32184 non-null  int64  \n",
      " 5   title         32184 non-null  object \n",
      " 6   vote_average  32184 non-null  float64\n",
      " 7   vote_count    32184 non-null  float64\n",
      " 8   release_year  32184 non-null  float64\n",
      " 9   return        32184 non-null  float64\n",
      " 10  name_genres   32184 non-null  object \n",
      "dtypes: float64(5), int64(2), object(4)\n",
      "memory usage: 2.9+ MB\n"
     ]
    }
   ],
   "source": [
    "dfMoviesFinal.info()"
   ]
  },
  {
   "cell_type": "code",
   "execution_count": 81,
   "metadata": {},
   "outputs": [
    {
     "name": "stdout",
     "output_type": "stream",
     "text": [
      "overview\n",
      "<class 'str'>    32184\n",
      "Name: count, dtype: int64\n",
      "0     Led by Woody, Andy's toys live happily in his ...\n",
      "12    When siblings Judy and Peter discover an encha...\n",
      "30    A family wedding reignites the ancient feud be...\n",
      "46    Cheated on, mistreated and stepped on, the wom...\n",
      "49    Just when George Banks has recovered from his ...\n",
      "Name: overview, dtype: object\n",
      "overview\n",
      "<class 'str'>    32184\n",
      "Name: count, dtype: int64\n"
     ]
    }
   ],
   "source": [
    "# Verifica los tipos únicos en la columna\n",
    "print(dfMoviesFinal['overview'].apply(type).value_counts())\n",
    "print(dfMoviesFinal['overview'].head())\n",
    "print(dfMoviesFinal['overview'].apply(type).value_counts())\n"
   ]
  },
  {
   "cell_type": "code",
   "execution_count": 82,
   "metadata": {},
   "outputs": [],
   "source": [
    "# Convertir a String\n",
    "dfMoviesFinal['overview'] = dfMoviesFinal['overview'].astype(str)"
   ]
  },
  {
   "cell_type": "code",
   "execution_count": 83,
   "metadata": {},
   "outputs": [
    {
     "name": "stdout",
     "output_type": "stream",
     "text": [
      "overview\n",
      "<class 'str'>    32184\n",
      "Name: count, dtype: int64\n"
     ]
    }
   ],
   "source": [
    "# Verifica los tipos únicos en la columna\n",
    "print(dfMoviesFinal['overview'].apply(type).value_counts())"
   ]
  },
  {
   "cell_type": "code",
   "execution_count": 84,
   "metadata": {},
   "outputs": [],
   "source": [
    "# Funciones para procesar la columna de los comentarios\n",
    "def process_tokens(text_series):\n",
    "    \"\"\"Tokeniza, elimina stopwords y aplica stemming.\"\"\"\n",
    "    stop_words = set(stopwords.words('english'))\n",
    "    stemmer = PorterStemmer()\n",
    "\n",
    "    def process_row(text):\n",
    "        tokens = word_tokenize(text)\n",
    "        tokens = [stemmer.stem(word) for word in tokens if word not in stop_words]\n",
    "        return ' '.join(tokens)\n",
    "\n",
    "    return text_series.apply(process_row)\n",
    "\n",
    "def preprocess_column(df):\n",
    "    \"\"\"Aplica limpieza y procesamiento de tokens a la columna del DataFrame.\"\"\"\n",
    "    # Limpieza previa (ejemplo)\n",
    "    df.loc[:, 'overview'] = df['overview'].str.replace(r'[^a-zA-Z]', ' ', regex=True).str.lower()\n",
    "\n",
    "    # Aplicar procesamiento de tokens\n",
    "    df.loc[:, 'processed_overview'] = process_tokens(df['overview'])\n",
    "\n",
    "    return df"
   ]
  },
  {
   "cell_type": "code",
   "execution_count": 85,
   "metadata": {},
   "outputs": [],
   "source": [
    "# Procesar Columna\n",
    "dfMoviesSintetico = preprocess_column(dfMoviesFinal)"
   ]
  },
  {
   "cell_type": "code",
   "execution_count": 97,
   "metadata": {},
   "outputs": [],
   "source": [
    "def recomendacion(title):\n",
    "    # Vectorizar los resúmenes utilizando TF-IDF\n",
    "    vectorizer = TfidfVectorizer()\n",
    "    tfidf_matrix = vectorizer.fit_transform(dfMoviesSintetico['processed_overview'])\n",
    "\n",
    "    # Verificar si el título existe en el DataFrame\n",
    "    if title not in dfMoviesSintetico['title'].values:\n",
    "        raise ValueError(f\"El título '{title}' no se encuentra en el DataFrame.\")\n",
    "    \n",
    "    # Obtener el resumen preprocesado de la película dada\n",
    "    processed_summary = dfMoviesSintetico[dfMoviesSintetico['title'] == title]['processed_overview'].values[0]\n",
    "    query_vector = vectorizer.transform([processed_summary])\n",
    "\n",
    "    # Calcular la similitud del coseno entre la película consultada y todas las demás\n",
    "    cosine_sim = cosine_similarity(query_vector, tfidf_matrix).flatten()\n",
    "\n",
    "    # Obtener los índices de las 5 películas más similares\n",
    "    similar_indices = cosine_sim.argsort()[-6:-1][::-1]\n",
    "\n",
    "    # Obtener las 5 películas más similares\n",
    "    recommended_movies = dfMoviesSintetico.iloc[similar_indices]\n",
    "    return recommended_movies['title']"
   ]
  },
  {
   "cell_type": "code",
   "execution_count": 98,
   "metadata": {},
   "outputs": [
    {
     "name": "stdout",
     "output_type": "stream",
     "text": [
      "159955    Batman Beyond: Return of the Joker\n",
      "334181                 The Dark Knight Rises\n",
      "435798                     Batman vs Dracula\n",
      "300061            Batman: Under the Red Hood\n",
      "558971                 DC Showcase: Catwoman\n",
      "Name: title, dtype: object\n"
     ]
    }
   ],
   "source": [
    "recommendations = recomendacion('Batman')\n",
    "print(recommendations)"
   ]
  },
  {
   "cell_type": "code",
   "execution_count": null,
   "metadata": {},
   "outputs": [],
   "source": [
    "# Elimino columna que no voy a usar en ninguna funcion\n",
    "dfMoviesSintetico = dfMoviesSintetico.drop(columns=['overview'])"
   ]
  },
  {
   "cell_type": "code",
   "execution_count": 91,
   "metadata": {},
   "outputs": [
    {
     "name": "stdout",
     "output_type": "stream",
     "text": [
      "<class 'pandas.core.frame.DataFrame'>\n",
      "Index: 32184 entries, 0 to 581956\n",
      "Data columns (total 11 columns):\n",
      " #   Column              Non-Null Count  Dtype  \n",
      "---  ------              --------------  -----  \n",
      " 0   budget              32184 non-null  float64\n",
      " 1   id_pelicula         32184 non-null  int64  \n",
      " 2   release_date        32184 non-null  object \n",
      " 3   revenue             32184 non-null  int64  \n",
      " 4   title               32184 non-null  object \n",
      " 5   vote_average        32184 non-null  float64\n",
      " 6   vote_count          32184 non-null  float64\n",
      " 7   release_year        32184 non-null  float64\n",
      " 8   return              32184 non-null  float64\n",
      " 9   name_genres         32184 non-null  object \n",
      " 10  processed_overview  32184 non-null  object \n",
      "dtypes: float64(5), int64(2), object(4)\n",
      "memory usage: 2.9+ MB\n"
     ]
    }
   ],
   "source": [
    "dfMoviesSintetico.info()"
   ]
  },
  {
   "cell_type": "code",
   "execution_count": 92,
   "metadata": {},
   "outputs": [],
   "source": [
    "dfMoviesSintetico.to_parquet('DataSets/dfMoviesSintetico.parquet')"
   ]
  },
  {
   "cell_type": "code",
   "execution_count": 93,
   "metadata": {},
   "outputs": [
    {
     "name": "stdout",
     "output_type": "stream",
     "text": [
      "<class 'pandas.core.frame.DataFrame'>\n",
      "Index: 32184 entries, 0 to 581956\n",
      "Data columns (total 11 columns):\n",
      " #   Column              Non-Null Count  Dtype  \n",
      "---  ------              --------------  -----  \n",
      " 0   budget              32184 non-null  float64\n",
      " 1   id_pelicula         32184 non-null  int64  \n",
      " 2   release_date        32184 non-null  object \n",
      " 3   revenue             32184 non-null  int64  \n",
      " 4   title               32184 non-null  object \n",
      " 5   vote_average        32184 non-null  float64\n",
      " 6   vote_count          32184 non-null  float64\n",
      " 7   release_year        32184 non-null  float64\n",
      " 8   return              32184 non-null  float64\n",
      " 9   name_genres         32184 non-null  object \n",
      " 10  processed_overview  32184 non-null  object \n",
      "dtypes: float64(5), int64(2), object(4)\n",
      "memory usage: 2.9+ MB\n"
     ]
    }
   ],
   "source": [
    "dfMoviesSintetico.info()"
   ]
  },
  {
   "cell_type": "code",
   "execution_count": null,
   "metadata": {},
   "outputs": [],
   "source": [
    "\n",
    "import joblib\n",
    "\n",
    "# Inicializar el vectorizer y tfidf_matrix\n",
    "def setup_recommendation_system(df):\n",
    "    global vectorizer, tfidf_matrix\n",
    "    \n",
    "    # Vectorizar los resúmenes utilizando TF-IDF\n",
    "    vectorizer = TfidfVectorizer()\n",
    "    tfidf_matrix = vectorizer.fit_transform(df['processed_overview'])\n",
    "    \n",
    "    # Guardar el vectorizer y tfidf_matrix en el disco para ser reutilizados\n",
    "    joblib.dump(vectorizer, 'vectorizer.joblib')\n",
    "    joblib.dump(tfidf_matrix, 'tfidf_matrix.joblib')\n",
    "\n",
    "# Cargar el vectorizer y tfidf_matrix desde el disco\n",
    "def load_recommendation_system():\n",
    "    global vectorizer, tfidf_matrix\n",
    "    \n",
    "    vectorizer = joblib.load('vectorizer.joblib')\n",
    "    tfidf_matrix = joblib.load('tfidf_matrix.joblib')\n",
    "\n",
    "# Función de recomendación\n",
    "def recomendacion(title):\n",
    "    # Verificar si el título existe en el DataFrame\n",
    "    if title not in dfMoviesFinal['title'].values:\n",
    "        raise ValueError(f\"El título '{title}' no se encuentra en el DataFrame.\")\n",
    "    \n",
    "    # Obtener el resumen preprocesado de la película dada\n",
    "    processed_summary = dfMoviesFinal[dfMoviesFinal['title'] == title]['processed_overview'].values[0]\n",
    "    query_vector = vectorizer.transform([processed_summary])\n",
    "    \n",
    "    # Calcular la similitud del coseno entre la película consultada y todas las demás\n",
    "    cosine_sim = cosine_similarity(query_vector, tfidf_matrix).flatten()\n",
    "    \n",
    "    # Obtener los índices de las 5 películas más similares\n",
    "    similar_indices = cosine_sim.argsort()[-6:-1][::-1]\n",
    "    \n",
    "    # Obtener las 5 películas más similares\n",
    "    recommended_movies = dfMoviesFinal.iloc[similar_indices]\n",
    "    \n",
    "    return recommended_movies[['title', 'overview']]\n"
   ]
  }
 ],
 "metadata": {
  "kernelspec": {
   "display_name": "Python 3",
   "language": "python",
   "name": "python3"
  },
  "language_info": {
   "codemirror_mode": {
    "name": "ipython",
    "version": 3
   },
   "file_extension": ".py",
   "mimetype": "text/x-python",
   "name": "python",
   "nbconvert_exporter": "python",
   "pygments_lexer": "ipython3",
   "version": "3.10.10"
  }
 },
 "nbformat": 4,
 "nbformat_minor": 2
}
